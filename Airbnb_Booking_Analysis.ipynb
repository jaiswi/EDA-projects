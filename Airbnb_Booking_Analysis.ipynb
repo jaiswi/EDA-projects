{
  "nbformat": 4,
  "nbformat_minor": 0,
  "metadata": {
    "colab": {
      "private_outputs": true,
      "provenance": [],
      "collapsed_sections": [
        "vncDsAP0Gaoa",
        "FJNUwmbgGyua",
        "w6K7xa23Elo4",
        "yQaldy8SH6Dl",
        "PH-0ReGfmX4f",
        "mDgbUHAGgjLW",
        "O_i_v8NEhb9l",
        "HhfV-JJviCcP",
        "Y3lxredqlCYt",
        "3RnN4peoiCZX",
        "x71ZqKXriCWQ",
        "7hBIi_osiCS2",
        "JlHwYmJAmNHm",
        "35m5QtbWiB9F",
        "PoPl-ycgm1ru",
        "H0kj-8xxnORC",
        "nA9Y7ga8ng1Z",
        "PBTbrJXOngz2",
        "u3PMJOP6ngxN",
        "dauF4eBmngu3",
        "bKJF3rekwFvQ",
        "MSa1f5Uengrz",
        "GF8Ens_Soomf",
        "0wOQAZs5pc--",
        "K5QZ13OEpz2H",
        "lQ7QKXXCp7Bj",
        "448CDAPjqfQr",
        "KSlN3yHqYklG",
        "t6dVpIINYklI",
        "ijmpgYnKYklI",
        "-JiQyfWJYklI",
        "EM7whBJCYoAo",
        "fge-S5ZAYoAp",
        "85gYPyotYoAp",
        "RoGjAbkUYoAp",
        "4Of9eVA-YrdM",
        "iky9q4vBYrdO",
        "F6T5p64dYrdO",
        "y-Ehk30pYrdP",
        "bamQiAODYuh1",
        "QHF8YVU7Yuh3",
        "GwzvFGzlYuh3",
        "qYpmQ266Yuh3",
        "OH-pJp9IphqM",
        "bbFf2-_FphqN",
        "_ouA3fa0phqN",
        "Seke61FWphqN",
        "PIIx-8_IphqN",
        "t27r6nlMphqO",
        "r2jJGEOYphqO",
        "b0JNsNcRphqO",
        "BZR9WyysphqO",
        "jj7wYXLtphqO",
        "eZrbJ2SmphqO",
        "rFu4xreNphqO",
        "YJ55k-q6phqO",
        "gCFgpxoyphqP",
        "OVtJsKN_phqQ",
        "lssrdh5qphqQ",
        "U2RJ9gkRphqQ",
        "1M8mcRywphqQ",
        "tgIPom80phqQ",
        "JMzcOPDDphqR",
        "x-EpHcCOp1ci",
        "X_VqEhTip1ck",
        "8zGJKyg5p1ck",
        "PVzmfK_Ep1ck",
        "n3dbpmDWp1ck",
        "ylSl6qgtp1ck",
        "ZWILFDl5p1ck",
        "M7G43BXep1ck",
        "Ag9LCva-p1cl",
        "E6MkPsBcp1cl",
        "2cELzS2fp1cl",
        "3MPXvC8up1cl",
        "NC_X3p0fY2L0",
        "UV0SzAkaZNRQ",
        "YPEH6qLeZNRQ",
        "q29F0dvdveiT",
        "EXh0U9oCveiU",
        "22aHeOlLveiV",
        "JcMwzZxoAimU",
        "8G2x9gOozGDZ",
        "gCX9965dhzqZ",
        "gIfDvo9L0UH2"
      ],
      "include_colab_link": true
    },
    "kernelspec": {
      "name": "python3",
      "display_name": "Python 3"
    },
    "language_info": {
      "name": "python"
    }
  },
  "cells": [
    {
      "cell_type": "markdown",
      "metadata": {
        "id": "view-in-github",
        "colab_type": "text"
      },
      "source": [
        "<a href=\"https://colab.research.google.com/github/jaiswi/EDA-projects/blob/main/Airbnb_Booking_Analysis.ipynb\" target=\"_parent\"><img src=\"https://colab.research.google.com/assets/colab-badge.svg\" alt=\"Open In Colab\"/></a>"
      ]
    },
    {
      "cell_type": "markdown",
      "source": [
        "# **Project Name**    - **Airbnb Bookings Analysis**\n",
        "\n"
      ],
      "metadata": {
        "id": "vncDsAP0Gaoa"
      }
    },
    {
      "cell_type": "markdown",
      "source": [
        "# **Project Type**    -  **Exploratory Data Analysis (EDA)**\n",
        "##### **Contribution**    - **Individual**\n",
        "##### **Name**               -**Jaiswi**"
      ],
      "metadata": {
        "id": "beRrZCGUAJYm"
      }
    },
    {
      "cell_type": "markdown",
      "source": [
        "# **Project Summary -**"
      ],
      "metadata": {
        "id": "FJNUwmbgGyua"
      }
    },
    {
      "cell_type": "markdown",
      "source": [
        "\n",
        "\n",
        "*   The purpose of the analysis: understanding the factors that influence Airbnb prices in New York City, or identifying patterns of all variables and Our analysis provides useful information for travelers and hosts in the city and also provides some best insights for Airbnb business.\n",
        "*   This project involved exploring and cleaning a dataset to prepare it for analysis. The data exploration process involved identifying and understanding the characteristics of the data, such as the data types, missing values, and distributions of values. The data cleaning process involved identifying and addressing any issues or inconsistencies in the data, such as errors, missing values, or duplicate records and remove outliers.\n",
        "\n",
        "\n",
        "\n",
        "*   Through this process, we were able to identify and fix any issues with the data, and ensure that it was ready for further analysis. This is an important step in any data analysis project, as it allows us to work with high-quality data and avoid any potential biases or errors that could affect the results. The clean and prepared data can now be used to answer specific research.\n",
        "\n",
        "*   Once the data has been cleaned and prepared, now begin exploring and summarizing it with describe the data and creating visualizations, and identifying patterns and trends in the data. in explore the data, may develop the relationships between different variables or the underlying causes of certain patterns or trends and other methods.\n",
        "\n",
        "\n",
        "*   using data visualization to explore and understand patterns in Airbnb data. We created various graphs and charts to visualize the data, and wrote observations and insights below each one to help us better understand the data and identify useful insights and patterns.\n",
        "\n",
        "\n",
        "*   Through this process, we were able to uncover trends and relationships in the data that would have been difficult to identify through raw data alone, for example factors affecting prices and availability. We found that minimum nights, number of reviews, and host listing count are important for determining prices, and that availability varies significantly across neighborhoods. Our analysis provides useful information for travelers and hosts in the city.\n",
        "\n",
        "*   The observations and insights we identified through this process will be useful for future analysis and decision-making related to Airbnb. and also Our analysis provides useful information for travelers and hosts in the city.\n",
        "\n",
        "\n",
        "\n",
        "\n",
        "\n"
      ],
      "metadata": {
        "id": "F6v_1wHtG2nS"
      }
    },
    {
      "cell_type": "markdown",
      "source": [
        "# **GitHub Link -**"
      ],
      "metadata": {
        "id": "w6K7xa23Elo4"
      }
    },
    {
      "cell_type": "markdown",
      "source": [
        "Provide your GitHub Link here."
      ],
      "metadata": {
        "id": "h1o69JH3Eqqn"
      }
    },
    {
      "cell_type": "markdown",
      "source": [
        "# **Problem Statement**\n"
      ],
      "metadata": {
        "id": "yQaldy8SH6Dl"
      }
    },
    {
      "cell_type": "markdown",
      "source": [
        "\n",
        "\n",
        "\n",
        "\n",
        "*   What are the most popular neighborhoods for Airbnb rentals in New York City? How do prices and availability vary by neighborhood?\n",
        "*     How has the Airbnb market in New York City changed over time? Have there been any significant trends in terms of the number of listings, prices, or occupancy rates.   \n",
        "\n",
        "\n",
        "*   Are there any patterns or trends in terms of the types of properties that are being rented out on Airbnb in New York City? Are certain types of properties more popular or more expensive than others?\n",
        "\n",
        "*   Are there any factors that seem to be correlated with the prices of Airbnb rentals in New York City?\n",
        "*   the best area in New York City for a host to buy property at a good price rate and in an area with high traffic ?\n",
        "\n",
        "\n",
        "\n",
        "*   How do the lengths of stay for Airbnb rentals in New York City vary by neighborhood? Do certain neighborhoods tend to attract longer or shorter stays?\n",
        "\n",
        "\n",
        "\n",
        "\n",
        "\n",
        "\n",
        "\n",
        "\n",
        "\n",
        "\n",
        "\n",
        "\n",
        "\n",
        "\n",
        "\n",
        "\n",
        "\n",
        "\n",
        "\n",
        "\n",
        "*  How do the ratings of Airbnb rentals in New York City compare to their prices? Are higher-priced rentals more likely to have higher ratings?\n",
        "\n",
        "*   Find the total numbers of Reviews and Maximum Reviews by Each Neighborhood Group.\n",
        "\n",
        "\n",
        "\n",
        "\n",
        "\n",
        "\n",
        "*  Find Most reviewed room type in Neighborhood groups per month.\n",
        "*   Find Best location listing/property location for travelers.\n",
        "\n",
        "\n",
        "\n",
        "\n",
        "\n",
        "\n",
        "\n",
        "*   Find also best location listing/property location for Hosts.\n",
        "\n"
      ],
      "metadata": {
        "id": "DpeJGUA3kjGy"
      }
    },
    {
      "cell_type": "markdown",
      "source": [
        "#### **Define Your Business Objective?**"
      ],
      "metadata": {
        "id": "PH-0ReGfmX4f"
      }
    },
    {
      "cell_type": "markdown",
      "source": [
        "Answer Here."
      ],
      "metadata": {
        "id": "PhDvGCAqmjP1"
      }
    },
    {
      "cell_type": "markdown",
      "source": [
        "# ***Let's Begin !***\n",
        "![airbnb_logo_detail.jpg](data:image/jpeg;base64,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)"
      ],
      "metadata": {
        "id": "O_i_v8NEhb9l"
      }
    },
    {
      "cell_type": "markdown",
      "source": [
        "# **Importing the necessary libraries**"
      ],
      "metadata": {
        "id": "qeqVkzAMosx1"
      }
    },
    {
      "cell_type": "code",
      "source": [
        "#importing the necessary libraries\n",
        "import numpy as np\n",
        "import pandas as pd\n",
        "import matplotlib.pyplot as plt     #for visualization\n",
        "%matplotlib inline\n",
        "import seaborn as sns               #for visualization\n",
        "import warnings\n",
        "warnings.filterwarnings('ignore')\n",
        "     "
      ],
      "metadata": {
        "id": "R7WhaQwImypv"
      },
      "execution_count": null,
      "outputs": []
    },
    {
      "cell_type": "code",
      "source": [
        "from google.colab import drive\n",
        "drive.mount('/content/drive')"
      ],
      "metadata": {
        "id": "ErpBppPCyvW2"
      },
      "execution_count": null,
      "outputs": []
    },
    {
      "cell_type": "markdown",
      "source": [
        "### **Load Airbnb Dataset**"
      ],
      "metadata": {
        "id": "lshmBYCvpPoT"
      }
    },
    {
      "cell_type": "code",
      "source": [
        "Airbnb_df = pd.read_csv('/content/drive/MyDrive/Airbnb NYC 2019.csv')\n",
        "Airbnb_df"
      ],
      "metadata": {
        "id": "_EdBFZuHpPL8"
      },
      "execution_count": null,
      "outputs": []
    },
    {
      "cell_type": "code",
      "source": [
        "Airbnb_df.shape"
      ],
      "metadata": {
        "id": "Z-exnyqgQVkw"
      },
      "execution_count": null,
      "outputs": []
    },
    {
      "cell_type": "markdown",
      "source": [
        "# **About the Dataset – Airbnb Bookings**\n",
        "\n",
        "\n",
        "*   This Airbnb dataset contains nearly 49,000 observations from New York , with 16 columns of data.\n",
        "*   The Data includes both categorical and numeric values, providing a diverse range of information about the listings.\n",
        "\n",
        "\n",
        "*   This Dataset may be useful for analyzing trends and patterns in the Airbnb market in New York and also gain insights into the preferences and behavior of Airbnb users in the area.\n",
        "*   This dataset contains information about Airbnb bookings in New York City in 2019. By analyzing this data, you may be able to understand the trends and patterns of Airbnb use in the NYC.\n",
        "\n",
        "\n",
        "\n"
      ],
      "metadata": {
        "id": "JvAcdZVvt0xv"
      }
    },
    {
      "cell_type": "markdown",
      "source": [
        "![download (2).png](data:image/png;base64,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)"
      ],
      "metadata": {
        "id": "E0FMflVrvfVq"
      }
    },
    {
      "cell_type": "markdown",
      "source": [
        "**UNDERSTAND THE GIVEN VARIABLES**"
      ],
      "metadata": {
        "id": "OvQDlJDbvryy"
      }
    },
    {
      "cell_type": "markdown",
      "source": [
        "Listing_id :- This is a unique identifier for each listing in the dataset.\n",
        "\n",
        "Listing_name :- This is the name or title of the listing, as it appears on the Airbnb website.\n",
        "\n",
        "Host_id :- This is a unique identifier for each host in the dataset.\n",
        "\n",
        "Host_name :- This is the name of the host as it appears on the Airbnb website.\n",
        "\n",
        "Neighbourhood_group :- This is a grouping of neighborhoods in New York City, such as Manhattan or Brooklyn.\n",
        "\n",
        "Neighbourhood :- This is the specific neighborhood in which the listing is located.\n",
        "\n",
        "Latitude :- This is the geographic latitude of the listing.\n",
        "\n",
        "Longitude :- This is the geographic longitude of the listing.\n",
        "\n",
        "Room_type :- This is the type of room or property being offered, such as an entire home, private room, shared room.\n",
        "\n",
        "Price :- This is the nightly price for the listing, in US dollars.\n",
        "\n",
        "Minimum_nights :- This is the minimum number of nights that a guest must stay at the listing.\n",
        "\n",
        "Total_reviews :- This is the total number of reviews that the listing has received.\n",
        "\n",
        "Reviews_per_month :- This is the average number of reviews that the listing receives per month.\n",
        "\n",
        "Host_listings_count :- This is the total number of listings that the host has on Airbnb.\n",
        "\n",
        "Availability_365 :- This is the number of days in the next 365 days that the listing is available for booking.\n",
        "\n"
      ],
      "metadata": {
        "id": "4IuE-WQgwFPb"
      }
    },
    {
      "cell_type": "markdown",
      "source": [
        "## ***Data Exploration and Data Cleaning***"
      ],
      "metadata": {
        "id": "dauF4eBmngu3"
      }
    },
    {
      "cell_type": "code",
      "source": [
        "Airbnb_df.head().T"
      ],
      "metadata": {
        "id": "Xeam2LYSxRDi"
      },
      "execution_count": null,
      "outputs": []
    },
    {
      "cell_type": "code",
      "source": [
        "#checking what are the variables here:\n",
        "Airbnb_df.columns"
      ],
      "metadata": {
        "id": "O5ZZ6lyIxgcr"
      },
      "execution_count": null,
      "outputs": []
    },
    {
      "cell_type": "markdown",
      "source": [
        "\n",
        "\n",
        "*   **So now first rename few columns for better understanding of variables -**\n"
      ],
      "metadata": {
        "id": "nsh49lwQy4rE"
      }
    },
    {
      "cell_type": "code",
      "source": [
        "rename_col = {'id':'listing_id','name':'listing_name','number_of_reviews':'total_reviews','calculated_host_listings_count':'host_listings_count'}"
      ],
      "metadata": {
        "id": "tgLRVR0JzGlz"
      },
      "execution_count": null,
      "outputs": []
    },
    {
      "cell_type": "code",
      "source": [
        "# use a pandas function to rename the current function\n",
        "Airbnb_df = Airbnb_df.rename(columns = rename_col)\n",
        "Airbnb_df.head(2).T\n",
        "     "
      ],
      "metadata": {
        "id": "QjYM0s7CyxnV"
      },
      "execution_count": null,
      "outputs": []
    },
    {
      "cell_type": "code",
      "source": [
        "#checking shape of Airbnb dataset\n",
        "Airbnb_df.shape"
      ],
      "metadata": {
        "id": "gVRJLs4jzqqD"
      },
      "execution_count": null,
      "outputs": []
    },
    {
      "cell_type": "code",
      "source": [
        "#basic information about the dataset\n",
        "Airbnb_df.info()\n",
        "     "
      ],
      "metadata": {
        "id": "oNsSw_NbzV5M"
      },
      "execution_count": null,
      "outputs": []
    },
    {
      "cell_type": "markdown",
      "source": [
        "**So, host_name, neighbourhood_group, neighbourhood and room_type fall into categorical variable category.**\n",
        "\n",
        "**While host_id, latitude, longitude, price, minimum_nights, number_of_reviews, last_review, reviews_per_month, host_listings_count, availability_365 are numerical variables**\n",
        "\n"
      ],
      "metadata": {
        "id": "3ER-324a0Eml"
      }
    },
    {
      "cell_type": "code",
      "source": [
        "# checking null values of each columns\n",
        "Airbnb_df.isnull().sum()\n",
        "     "
      ],
      "metadata": {
        "id": "HUON98EJ0y9s"
      },
      "execution_count": null,
      "outputs": []
    },
    {
      "cell_type": "code",
      "source": [
        "# check duplicate rows in dataset\n",
        "Airbnb_df = Airbnb_df.drop_duplicates()\n",
        "Airbnb_df.count()\n",
        "     "
      ],
      "metadata": {
        "id": "9IPsPoPk0YHO"
      },
      "execution_count": null,
      "outputs": []
    },
    {
      "cell_type": "markdown",
      "source": [
        "**So, there is no any duplicate rows in Dataset**\n",
        "\n"
      ],
      "metadata": {
        "id": "ga6vaWzC0kA8"
      }
    },
    {
      "cell_type": "code",
      "source": [
        "# checking null values of each columns\n",
        "Airbnb_df.isnull().sum()\n",
        "     "
      ],
      "metadata": {
        "id": "6ncUtAAB5K1t"
      },
      "execution_count": null,
      "outputs": []
    },
    {
      "cell_type": "markdown",
      "source": [
        "**host_name** and **listing_name** are not that much of null values, so first we are good to fill those with some substitutes in both the columns first.\n",
        "\n"
      ],
      "metadata": {
        "id": "p6ErLuuY5XZo"
      }
    },
    {
      "cell_type": "code",
      "source": [
        "Airbnb_df['listing_name'].fillna('unknown',inplace=True)\n",
        "Airbnb_df['host_name'].fillna('no_name',inplace=True)\n",
        "     "
      ],
      "metadata": {
        "id": "ZhhjJGd05iKV"
      },
      "execution_count": null,
      "outputs": []
    },
    {
      "cell_type": "code",
      "source": [
        "#so the null values are removed\n",
        "Airbnb_df[['host_name','listing_name']].isnull().sum()\n",
        "     "
      ],
      "metadata": {
        "id": "ZXac5ktl8jKV"
      },
      "execution_count": null,
      "outputs": []
    },
    {
      "cell_type": "markdown",
      "source": [
        "Now, the columns **last_review** and **reviews_per_month** have total 10052 null values each.\n",
        "\n",
        "**last_review** column is not required for our analysis as compared to **number_of_reviews** & **reviews_per_month**. We're good to drop this column.\n",
        "\n",
        "**listing_id** also not that much of important for our analysis but i dont remove because of **listing_id** and **listing_name** is pair and removing **listing_id** it still wont make much difference. make sense right ?\n",
        "\n"
      ],
      "metadata": {
        "id": "JjM1Nbb29Arv"
      }
    },
    {
      "cell_type": "code",
      "source": [
        "Airbnb_df = Airbnb_df.drop(['last_review'], axis=1)     #removing last_review column beacause of not that much important"
      ],
      "metadata": {
        "id": "s4luv4kx9mvv"
      },
      "execution_count": null,
      "outputs": []
    },
    {
      "cell_type": "code",
      "source": [
        "Airbnb_df.info()      # the last_review column is deleted"
      ],
      "metadata": {
        "id": "fKwqcGrZ8i7G"
      },
      "execution_count": null,
      "outputs": []
    },
    {
      "cell_type": "markdown",
      "source": [
        "The **reviews_per_month** column also containing null values and we can simple put 0 reviews by replacing NAN's i think this is make sense -\n",
        "\n",
        "\n"
      ],
      "metadata": {
        "id": "dO-Gkx7196D_"
      }
    },
    {
      "cell_type": "code",
      "source": [
        "Airbnb_df['reviews_per_month'] = Airbnb_df['reviews_per_month'].replace(to_replace=np.nan,value=0).astype('int64')\n",
        "     "
      ],
      "metadata": {
        "id": "R2ojHfH2-SuX"
      },
      "execution_count": null,
      "outputs": []
    },
    {
      "cell_type": "code",
      "source": [
        "# the null values are replaced by 0 value\n",
        "Airbnb_df['reviews_per_month'].isnull().sum()   \n",
        "     "
      ],
      "metadata": {
        "id": "E-LqOjPP-XoO"
      },
      "execution_count": null,
      "outputs": []
    },
    {
      "cell_type": "markdown",
      "source": [
        "**So there is no null value now in 'reviews_per_month' column** because we replaced null value by 0 value. this will make sense because there is no any such data to find those null value"
      ],
      "metadata": {
        "id": "Dmjdx5YC-dmX"
      }
    },
    {
      "cell_type": "code",
      "source": [
        "#so now check Dataset columns changed and null values, last_review column removed.\n",
        "Airbnb_df.sample(5)\n",
        "     "
      ],
      "metadata": {
        "id": "DwKUfVN8-mHu"
      },
      "execution_count": null,
      "outputs": []
    },
    {
      "cell_type": "markdown",
      "source": [
        "###  **Check Unique Value for variables and doing some experiments -**\n"
      ],
      "metadata": {
        "id": "qTC4I2n8TX0t"
      }
    },
    {
      "cell_type": "code",
      "source": [
        "# check unique values for listing/property Ids\n",
        "# all the listing ids are different and each listings are different here.\n",
        "Airbnb_df['listing_id'].nunique()"
      ],
      "metadata": {
        "id": "hYdgYugGU8Mj"
      },
      "execution_count": null,
      "outputs": []
    },
    {
      "cell_type": "code",
      "source": [
        "# so there are 221 unique neighborhood in Dataset\n",
        "Airbnb_df['neighbourhood'].nunique()"
      ],
      "metadata": {
        "id": "cRwb3RYaVDVL"
      },
      "execution_count": null,
      "outputs": []
    },
    {
      "cell_type": "code",
      "source": [
        "#and total 5 unique neighborhood_group in Dataset\n",
        "Airbnb_df['neighbourhood_group'].nunique()"
      ],
      "metadata": {
        "id": "wQk1PZnAUA8B"
      },
      "execution_count": null,
      "outputs": []
    },
    {
      "cell_type": "code",
      "source": [
        "#so total 11453 different hosts in Airbnb-NYC\n",
        "Airbnb_df['host_name'].nunique()\n",
        "     "
      ],
      "metadata": {
        "id": "tu6j_gKmhbjF"
      },
      "execution_count": null,
      "outputs": []
    },
    {
      "cell_type": "code",
      "source": [
        "# most of the listing/property are different in Dataset\n",
        "Airbnb_df['listing_name'].nunique()\n",
        "     "
      ],
      "metadata": {
        "id": "AzgoYq41hdmD"
      },
      "execution_count": null,
      "outputs": []
    },
    {
      "cell_type": "markdown",
      "source": [
        "**Note** - so i think few listings/property with same names has different hosts in different areas/neighbourhoods of a neighbourhood_group"
      ],
      "metadata": {
        "id": "oHXoxBQOjBxG"
      }
    },
    {
      "cell_type": "code",
      "source": [
        "Airbnb_df[Airbnb_df['host_name']=='David']['listing_name'].nunique()\n",
        "\n",
        "# so here same host David operates different 402 listing/property"
      ],
      "metadata": {
        "id": "jYCgB8Uthhm6"
      },
      "execution_count": null,
      "outputs": []
    },
    {
      "cell_type": "code",
      "source": [
        "Airbnb_df[Airbnb_df['listing_name']==Airbnb_df['host_name']].head()\n",
        "\n",
        "# there are few listings where the listing/property name and the host have same names\n",
        "     "
      ],
      "metadata": {
        "id": "2wLpSVtwUGIX"
      },
      "execution_count": null,
      "outputs": []
    },
    {
      "cell_type": "code",
      "source": [
        "Airbnb_df.loc[(Airbnb_df['neighbourhood_group']=='Queens') & (Airbnb_df['host_name']=='Alex')].head(4)\n",
        "\n",
        "# Same host have hosted different listing/property in different or same neighbourhood in same neighbourhood groups\n",
        "# like Alex hosted different listings in most of different neighbourhood and there are same also in queens neighbourhood_group!\n"
      ],
      "metadata": {
        "id": "DykG2vT2jSYS"
      },
      "execution_count": null,
      "outputs": []
    },
    {
      "cell_type": "markdown",
      "source": [
        "# **Describe the Dataset and removing outliers**"
      ],
      "metadata": {
        "id": "SCCVY6z_jV0J"
      }
    },
    {
      "cell_type": "code",
      "source": [
        "# describe the DataFrame \n",
        "Airbnb_df.describe()"
      ],
      "metadata": {
        "id": "wgbrLTawjcaq"
      },
      "execution_count": null,
      "outputs": []
    },
    {
      "cell_type": "markdown",
      "source": [
        "**Note**- price column is very important so we have to find big outliers in important columns first."
      ],
      "metadata": {
        "id": "vyziaeyYjlUc"
      }
    },
    {
      "cell_type": "code",
      "source": [
        "sns.boxplot(x = Airbnb_df['price'])\n",
        "\n",
        "plt.show()\n",
        "     \n"
      ],
      "metadata": {
        "id": "DTmEUbyyju35"
      },
      "execution_count": null,
      "outputs": []
    },
    {
      "cell_type": "markdown",
      "source": [
        "# **using IQR technique**"
      ],
      "metadata": {
        "id": "O4ZxptEyj2L6"
      }
    },
    {
      "cell_type": "code",
      "source": [
        "# writing a outlier function for removing outliers in important columns.\n",
        "def iqr_technique(DFcolumn):\n",
        "  Q1 = np.percentile(DFcolumn, 25)\n",
        "  Q3 = np.percentile(DFcolumn, 75)\n",
        "  IQR = Q3 - Q1\n",
        "  lower_range = Q1 - (1.5 * IQR)\n",
        "  upper_range = Q3 + (1.5 * IQR)                        # interquantile range\n",
        "\n",
        "  return lower_range,upper_range"
      ],
      "metadata": {
        "id": "tbYlqiAYj81K"
      },
      "execution_count": null,
      "outputs": []
    },
    {
      "cell_type": "code",
      "source": [
        "lower_bound,upper_bound = iqr_technique(Airbnb_df['price'])\n",
        "\n",
        "Airbnb_df = Airbnb_df[(Airbnb_df.price>lower_bound) & (Airbnb_df.price<upper_bound)]"
      ],
      "metadata": {
        "id": "LA3_9v39krVD"
      },
      "execution_count": null,
      "outputs": []
    },
    {
      "cell_type": "code",
      "source": [
        "# so the outliers are removed from price column now check with boxplot and also check shape of new Dataframe!\n",
        "\n",
        "sns.boxplot(x = Airbnb_df['price'])\n",
        "print(Airbnb_df.shape)\n",
        "     "
      ],
      "metadata": {
        "id": "Kq6lXDe3kw0u"
      },
      "execution_count": null,
      "outputs": []
    },
    {
      "cell_type": "code",
      "source": [
        "# so here outliers are removed, see the new max price\n",
        "print(Airbnb_df['price'].max())\n",
        "     "
      ],
      "metadata": {
        "id": "vi4UqycVjyEY"
      },
      "execution_count": null,
      "outputs": []
    },
    {
      "cell_type": "markdown",
      "source": [
        "## ***4. Data Vizualization***"
      ],
      "metadata": {
        "id": "GF8Ens_Soomf"
      }
    },
    {
      "cell_type": "markdown",
      "source": [
        "#### **Chart - 1.Distribution Of Airbnb Bookings Price Range Using Histogram**"
      ],
      "metadata": {
        "id": "0wOQAZs5pc--"
      }
    },
    {
      "cell_type": "code",
      "source": [
        "# Chart - 1 visualization code\n",
        "\n",
        "# Create a figure with a custom size\n",
        "plt.figure(figsize=(12, 5))\n",
        "\n",
        "# Set the seaborn theme to darkgrid\n",
        "sns.set_theme(style='darkgrid')\n",
        "\n",
        "# Create a histogram of the 'price' column of the Airbnb_df dataframe\n",
        "# using sns distplot function and specifying the color as red\n",
        "sns.distplot(Airbnb_df['price'],color=('r'))\n",
        "\n",
        "# Add labels to the x-axis and y-axis\n",
        "plt.xlabel('Price', fontsize=14)\n",
        "plt.ylabel('Density', fontsize=14)\n",
        "\n",
        "# Add a title to the plot\n",
        "plt.title('Distribution of Airbnb Prices',fontsize=15)"
      ],
      "metadata": {
        "id": "7v_ESjsspbW7"
      },
      "execution_count": null,
      "outputs": []
    },
    {
      "cell_type": "markdown",
      "source": [
        "##### **Observations**"
      ],
      "metadata": {
        "id": "K5QZ13OEpz2H"
      }
    },
    {
      "cell_type": "markdown",
      "source": [
        "\n",
        "\n",
        "*  The range of prices being charged on Airbnb appears to be from 20 to 330 dollars , with the majority of listings falling in the price range of 50 to 150 dollars.\n",
        "*   The distribution of prices appears to have a peak in the 50 to 150 dollars range, with a relatively lower density of listings in higher and lower price ranges.\n",
        "\n",
        "*  There may be fewer listings available at prices above 250 dollars, as the density of listings drops significantly in this range.\n",
        "\n",
        "\n",
        "\n",
        "\n"
      ],
      "metadata": {
        "id": "XESiWehPqBRc"
      }
    },
    {
      "cell_type": "markdown",
      "source": [
        "#### **Chart - 2.Total Listing/Property count in Each Neighborhood Group using Count plot**"
      ],
      "metadata": {
        "id": "KSlN3yHqYklG"
      }
    },
    {
      "cell_type": "code",
      "source": [
        "# Chart - 2 visualization code\n",
        "# Count the number of listings in each neighborhood group and store the result in a Pandas series\n",
        "counts = Airbnb_df['neighbourhood_group'].value_counts()\n",
        "\n",
        "# Reset the index of the series so that the neighborhood groups become columns in the resulting dataframe\n",
        "Top_Neighborhood_group = counts.reset_index()\n",
        "\n",
        "# Rename the columns of the dataframe to be more descriptive\n",
        "Top_Neighborhood_group.columns = ['Neighborhood_Groups', 'Listing_Counts']\n",
        "\n",
        "# display the resulting DataFrame\n",
        "Top_Neighborhood_group\n"
      ],
      "metadata": {
        "id": "R4YgtaqtYklH"
      },
      "execution_count": null,
      "outputs": []
    },
    {
      "cell_type": "code",
      "source": [
        "\n",
        "# Set the figure size\n",
        "plt.figure(figsize=(12, 8))\n",
        "\n",
        "# Create a countplot of the neighbourhood group data\n",
        "sns.countplot(Airbnb_df['neighbourhood_group'])\n",
        "\n",
        "# Set the title of the plot\n",
        "plt.title('Neighbourhood_group Listing Counts in NYC', fontsize=15)\n",
        "\n",
        "# Set the x-axis label\n",
        "plt.xlabel('Neighbourhood_Group', fontsize=14)\n",
        "\n",
        "# Set the y-axis label\n",
        "plt.ylabel('total listings counts', fontsize=14)"
      ],
      "metadata": {
        "id": "EKQEworNh4ur"
      },
      "execution_count": null,
      "outputs": []
    },
    {
      "cell_type": "markdown",
      "source": [
        "##### **Observations**"
      ],
      "metadata": {
        "id": "t6dVpIINYklI"
      }
    },
    {
      "cell_type": "markdown",
      "source": [
        "Answer Here.\n",
        "\n",
        "*   Manhattan and Brooklyn have the highest number of listings on Airbnb, with over 19,000 listings each.\n",
        "\n",
        "*   Queens and the Bronx have significantly fewer listings compared to Manhattan and Brooklyn, with 5,567 and 1,070 listings, respectively\n",
        "*   Staten Island has the fewest number of listings, with only 365.\n",
        "\n",
        "\n",
        "\n",
        "*   The distribution of listings across the different neighborhood groups is skewed, with a concentration of listings in Manhattan and Brooklyn.\n",
        "*   Despite being larger in size, the neighborhoods in Queens, the Bronx, and Staten Island have fewer listings on Airbnb compared to Manhattan, which has a smaller geographical area.\n",
        "\n",
        "\n",
        "\n",
        "\n",
        "*   This could suggest that the demand for Airbnb rentals is higher in Manhattan compared to the other neighborhoods, leading to a higher concentration of listings in this area.\n",
        "\n",
        "*   Alternatively, it could be that the supply of listings is higher in Manhattan due to a higher number of homeowners or property owners in this neighborhood who are willing to list their properties on Airbnb.\n",
        "\n",
        "\n",
        "\n",
        "\n"
      ],
      "metadata": {
        "id": "5aaW0BYyYklI"
      }
    },
    {
      "cell_type": "markdown",
      "source": [
        "####**Chart - 3.Average Price Of Each Neighborhood Group using Point Plot**"
      ],
      "metadata": {
        "id": "EM7whBJCYoAo"
      }
    },
    {
      "cell_type": "code",
      "source": [
        "# Chart - 3 visualization code\n",
        "# Group the Airbnb dataset by neighborhood group and calculate the mean of each group\n",
        "grouped = Airbnb_df.groupby(\"neighbourhood_group\").mean()\n",
        "\n",
        "# Reset the index of the grouped dataframe so that the neighborhood group becomes a column\n",
        "neighbourhood_group_avg_price = grouped.reset_index()\n",
        "\n",
        "# Rename the \"price\" column to \"avg_price\"\n",
        "neighbourhood_group_avg_price = round(neighbourhood_group_avg_price.rename(columns={\"price\": \"avg_price\"}),2)\n",
        "\n",
        "# Select only the \"neighbourhood_group\" and \"avg_price\" columns\n",
        "neighbourhood_group_avg_price[['neighbourhood_group', 'avg_price']].head()"
      ],
      "metadata": {
        "id": "t6GMdE67YoAp"
      },
      "execution_count": null,
      "outputs": []
    },
    {
      "cell_type": "code",
      "source": [
        "#import mean function from the statistics module \n",
        "from statistics import mean\n",
        "\n",
        "# Create the point plot\n",
        "sns.pointplot(x = 'neighbourhood_group', y='price', data=Airbnb_df, estimator = np.mean)\n",
        "\n",
        "# Add axis labels and a title\n",
        "plt.xlabel('Neighbourhood Group',fontsize=14)\n",
        "plt.ylabel('Average Price',fontsize=14)\n",
        "plt.title('Average Price by Neighbourhood Group',fontsize=15)"
      ],
      "metadata": {
        "id": "idsE1jY3G7S8"
      },
      "execution_count": null,
      "outputs": []
    },
    {
      "cell_type": "markdown",
      "source": [
        "##### **Observations**"
      ],
      "metadata": {
        "id": "fge-S5ZAYoAp"
      }
    },
    {
      "cell_type": "markdown",
      "source": [
        "\n",
        "\n",
        "*   The average price of a listing in New York City varies significantly across different neighborhoods, with Manhattan having the highest 146 dollars/day average price and the Bronx having the lowest near 77 dollars/day.\n",
        "*   In second graph price distribution is very high in Manhattan and Brooklyn.\n",
        "but Manhattan have more varity in price range, you can see in second violinplot.\n",
        "\n",
        "\n",
        "*   The average price increases as you move from the outer boroughs (Bronx, Brooklyn, Queens, and Staten Island) towards the center of the city (Manhattan).\n",
        "\n",
        "\n",
        "*   The average price in queens and Staten Island is relatively similar, despite being in different parts of the city.\n",
        "\n",
        "\n",
        "*   The data suggests that the overall cost of living in New York City is higher in the center of the city (Manhattan) compared to the outer boroughs. This is likely due to the fact that Manhattan is the most densely populated and commercially important borough, and therefore has higher demand for housing in the centrally located neighborhoods\n",
        "\n",
        "\n",
        "\n",
        "\n",
        "\n",
        "\n",
        "\n",
        "\n",
        "\n"
      ],
      "metadata": {
        "id": "5dBItgRVYoAp"
      }
    },
    {
      "cell_type": "markdown",
      "source": [
        "#### **Chart - 4) Price Distribution Of Each Neighborhood Group using Violin Plot**"
      ],
      "metadata": {
        "id": "4Of9eVA-YrdM"
      }
    },
    {
      "cell_type": "code",
      "source": [
        "# Chart - 4 visualization code\n",
        "# Create the violin plot for price distribution in each Neighbourhood_groups\n",
        "\n",
        "ax= sns.violinplot(x='neighbourhood_group',y='price',data= Airbnb_df)\n",
        "     \n"
      ],
      "metadata": {
        "id": "irlUoxc8YrdO"
      },
      "execution_count": null,
      "outputs": []
    },
    {
      "cell_type": "markdown",
      "source": [
        "##### **Observations**"
      ],
      "metadata": {
        "id": "iky9q4vBYrdO"
      }
    },
    {
      "cell_type": "markdown",
      "source": [
        "\n",
        "\n",
        "*   Price distribution is very high in Manhattan and Brooklyn. but Manhattan have more Diversity in price range, you can see in violin plot.\n",
        "*   Queens and Bronx have same price distribution but in Queens area more distribution in 50 to 100 but diversity in price is not like Manhattan and Brooklyn.\n",
        "\n"
      ],
      "metadata": {
        "id": "aJRCwT6DYrdO"
      }
    },
    {
      "cell_type": "markdown",
      "source": [
        "#### **Chart - 5. Top Neighborhoods by Listing/property using Bar plot**\n",
        "\n"
      ],
      "metadata": {
        "id": "bamQiAODYuh1"
      }
    },
    {
      "cell_type": "code",
      "source": [
        "# Chart - 5 visualization code\n",
        "# create a new DataFrame that displays the top 10 neighborhoods in the Airbnb NYC dataset based on the number of listings in each neighborhood\n",
        "Top_Neighborhoods = Airbnb_df['neighbourhood'].value_counts()[:10].reset_index()\n",
        "\n",
        "# rename the columns of the resulting DataFrame to 'Top_Neighborhoods' and 'Listing_Counts'\n",
        "Top_Neighborhoods.columns = ['Top_Neighborhoods', 'Listing_Counts']\n",
        "\n",
        "# display the resulting DataFrame\n",
        "Top_Neighborhoods\n",
        "\n"
      ],
      "metadata": {
        "id": "TIJwrbroYuh3"
      },
      "execution_count": null,
      "outputs": []
    },
    {
      "cell_type": "code",
      "source": [
        "# Get the top 10 neighborhoods by listing count\n",
        "top_10_neigbourhoods = Airbnb_df['neighbourhood'].value_counts().nlargest(10)\n",
        "\n",
        "# Create a list of colors to use for the bars\n",
        "colors = ['c', 'g', 'olive', 'y', 'm', 'orange', '#C0C0C0', '#800000', '#008000', '#000080']\n",
        "\n",
        "# Create a bar plot of the top 10 neighborhoods using the specified colors\n",
        "top_10_neigbourhoods.plot(kind='bar', figsize=(15, 6), color = colors)\n",
        "\n",
        "# Set the x-axis label\n",
        "plt.xlabel('Neighbourhood', fontsize=14)\n",
        "\n",
        "# Set the y-axis label\n",
        "plt.ylabel('Total Listing Counts', fontsize=14)\n",
        "\n",
        "# Set the title of the plot\n",
        "plt.title('Listings by Top Neighborhoods in NYC', fontsize=15)\n"
      ],
      "metadata": {
        "id": "mvvIxKOyK8g2"
      },
      "execution_count": null,
      "outputs": []
    },
    {
      "cell_type": "markdown",
      "source": [
        "##### **Observations**"
      ],
      "metadata": {
        "id": "QHF8YVU7Yuh3"
      }
    },
    {
      "cell_type": "markdown",
      "source": [
        "\n",
        "\n",
        "*   The top neighborhoods in New York City in terms of listing counts are Williamsburg, Bedford-Stuyvesant, Harlem, Bushwick, and the Upper West Side.\n",
        "*   The top neighborhoods are primarily located in Brooklyn and Manhattan. This may be due to the fact that these boroughs have a higher overall population and a higher demand for housing.\n",
        "\n",
        "\n",
        "\n",
        "*   The number of listings alone may not be indicative of the overall demand for housing in a particular neighborhood, as other factors such as the cost of living and the availability of housing may also play a role.\n",
        "\n",
        "\n",
        "\n",
        "\n",
        "\n",
        "\n"
      ],
      "metadata": {
        "id": "nL6nW8hfML0Z"
      }
    },
    {
      "cell_type": "markdown",
      "source": [
        "####**Chart  - 6. Top Hosts With More Listing/Property using Bar chart**"
      ],
      "metadata": {
        "id": "OH-pJp9IphqM"
      }
    },
    {
      "cell_type": "code",
      "source": [
        "# Chart - 6 visualization code\n",
        "# create a new DataFrame that displays the top 10 hosts in the Airbnb NYC dataset based on the number of listings each host has\n",
        "top_10_hosts = Airbnb_df['host_name'].value_counts()[:10].reset_index()\n",
        "\n",
        "# rename the columns of the resulting DataFrame to 'host_name' and 'Total_listings'\n",
        "top_10_hosts.columns = ['host_name', 'Total_listings']\n",
        "\n",
        "# display the resulting DataFrame\n",
        "top_10_hosts"
      ],
      "metadata": {
        "id": "kuRf4wtuphqN"
      },
      "execution_count": null,
      "outputs": []
    },
    {
      "cell_type": "code",
      "source": [
        "# Get the top 10 hosts by listing count\n",
        "top_hosts = Airbnb_df['host_name'].value_counts()[:10]\n",
        "\n",
        "# Create a bar plot of the top 10 hosts\n",
        "top_hosts.plot(kind='bar', color='peru', figsize=(18, 7))\n",
        "\n",
        "# Set the x-axis label\n",
        "plt.xlabel('top10_hosts', fontsize=14)\n",
        "\n",
        "# Set the y-axis label\n",
        "plt.ylabel('total_NYC_listings', fontsize=14)\n",
        "\n",
        "# Set the title of the plot\n",
        "plt.title('top 10 hosts on the basis of no of listings in entire NYC!', fontsize=15)"
      ],
      "metadata": {
        "id": "cHcafcHhQCUO"
      },
      "execution_count": null,
      "outputs": []
    },
    {
      "cell_type": "markdown",
      "source": [
        "##### **Observations**"
      ],
      "metadata": {
        "id": "bbFf2-_FphqN"
      }
    },
    {
      "cell_type": "markdown",
      "source": [
        "\n",
        "\n",
        "*  The top three hosts in terms of total listings are Michael, David, and John, who have 383, 368, and 276 listings, respectively.\n",
        "\n",
        "\n",
        "*  There is a relatively large gap between the top two hosts and the rest of the hosts. For example, john has 276 listings, which is significantly fewer than Michael's 383 listings.\n",
        "\n",
        "\n",
        "*  In this top10 list Mike has 184 listings, which is significantly fewer than\n",
        "Michael's 383 listings. This could indicate that there is a lot of variation in the success of different hosts on Airbnb.\n",
        "\n",
        "\n",
        "*   There are relatively few hosts with a large number of listings. This could indicate that the Airbnb market is relatively competitive, with a small number of hosts dominating a large portion of the market.\n",
        "\n",
        "\n",
        "\n",
        "\n"
      ],
      "metadata": {
        "id": "loh7H2nzphqN"
      }
    },
    {
      "cell_type": "markdown",
      "source": [
        "#### **Chart - 7. Number Of Active Hosts Per Location Using Line Chart**\n",
        "\n"
      ],
      "metadata": {
        "id": "PIIx-8_IphqN"
      }
    },
    {
      "cell_type": "code",
      "source": [
        "# Chart - 7 visualization code\n",
        "# create a new DataFrame that displays the number of hosts in each neighborhood group in the Airbnb NYC dataset\n",
        "hosts_per_location = Airbnb_df.groupby('neighbourhood_group')['listing_id'].count().reset_index()\n",
        "\n",
        "# rename the columns of the resulting DataFrame to 'Neighbourhood_Groups' and 'Host_counts'\n",
        "hosts_per_location.columns = ['Neighbourhood_Groups', 'Host_counts']\n",
        "\n",
        "# display the resulting DataFrame\n",
        "hosts_per_location\n",
        "\n"
      ],
      "metadata": {
        "id": "lqAIGUfyphqO"
      },
      "execution_count": null,
      "outputs": []
    },
    {
      "cell_type": "code",
      "source": [
        "# Group the data by neighbourhood_group and count the number of listings for each group\n",
        "hosts_per_location = Airbnb_df.groupby('neighbourhood_group')['listing_id'].count()\n",
        "\n",
        "# Get the list of neighbourhood_group names\n",
        "locations = hosts_per_location.index\n",
        "\n",
        "# Get the list of host counts for each neighbourhood_group\n",
        "host_counts = hosts_per_location.values\n",
        "\n",
        "# Set the figure size\n",
        "plt.figure(figsize=(12, 5))\n",
        "\n",
        "# Create the line chart with some experiments using marker function\n",
        "plt.plot(locations, host_counts, marker='o', ms=12, mew=4, mec='r')\n",
        "\n",
        "# Add a title and labels to the x-axis and y-axis\n",
        "plt.title('Number of Active Hosts per Location', fontsize='15')\n",
        "plt.xlabel('Location', fontsize='14')\n",
        "plt.ylabel('Number of Active Hosts', fontsize='14')\n",
        "\n",
        "# Show the plot\n",
        "plt.show()\n",
        "     \n"
      ],
      "metadata": {
        "id": "COlK_a1gQ5uT"
      },
      "execution_count": null,
      "outputs": []
    },
    {
      "cell_type": "markdown",
      "source": [
        "##### **Observations**"
      ],
      "metadata": {
        "id": "t27r6nlMphqO"
      }
    },
    {
      "cell_type": "markdown",
      "source": [
        "\n",
        "*   Manhattan has the largest number of hosts with 19501,Brooklyn has the second largest number of hosts with 19415.\n",
        "*   After that Queens with 5567 and the Bronx with 1070. while Staten Island has the fewest with 365.\n",
        "\n",
        "\n",
        "*   Brooklyn and Manhattan have the largest number of hosts, with more than double the number of hosts in Queens and more than 18 times the number of hosts in the Bronx.\n",
        "\n",
        "\n",
        "\n",
        "\n"
      ],
      "metadata": {
        "id": "iv6ro40sphqO"
      }
    },
    {
      "cell_type": "markdown",
      "source": [
        "####**Chart - 8. Average Minimum Price In Neighborhoods using Scatter and Bar chart**\n",
        "\n"
      ],
      "metadata": {
        "id": "BZR9WyysphqO"
      }
    },
    {
      "cell_type": "code",
      "source": [
        "# Chart - 8 visualization code\n",
        "# create a new DataFrame that displays the average price of Airbnb rentals in each neighborhood\n",
        "neighbourhood_avg_price = Airbnb_df.groupby(\"neighbourhood\").mean().reset_index().rename(columns={\"price\": \"avg_price\"})[['neighbourhood', 'avg_price']]\n",
        "\n",
        "# select the top 10 neighborhoods with the lowest average prices\n",
        "neighbourhood_avg_price = neighbourhood_avg_price.sort_values(\"avg_price\").head(10)\n",
        "\n",
        "# join the resulting DataFrame with the 'neighbourhood_group' column from the Airbnb NYC dataset, dropping any duplicate entries\n",
        "neighbourhood_avg_price_sorted_with_group = neighbourhood_avg_price.join(Airbnb_df[['neighbourhood', 'neighbourhood_group']].drop_duplicates().set_index('neighbourhood'),\n",
        "                                                                         on='neighbourhood')\n",
        "\n",
        "# Display the resulting data\n",
        "display(neighbourhood_avg_price_sorted_with_group.style.hide_index())\n"
      ],
      "metadata": {
        "id": "TdPTWpAVphqO"
      },
      "execution_count": null,
      "outputs": []
    },
    {
      "cell_type": "code",
      "source": [
        "\n",
        "neighbourhood_avg_price = (Airbnb_df.groupby(\"neighbourhood\").mean().reset_index().rename(columns={\"price\": \"avg_price\"}))[['neighbourhood', 'avg_price']]\n",
        "neighbourhood_avg_price = (neighbourhood_avg_price.sort_values(\"avg_price\"))\n",
        "\n",
        "# Group the data by neighborhood and calculate the average price\n",
        "neighbourhood_avg_price = Airbnb_df.groupby(\"neighbourhood\")[\"price\"].mean()\n",
        "\n",
        "# Create a new DataFrame with the average price for each neighborhood\n",
        "neighbourhood_prices = pd.DataFrame({\"neighbourhood\": neighbourhood_avg_price.index, \"avg_price\": neighbourhood_avg_price.values})\n",
        "\n",
        "# Merge the average price data with the original DataFrame#trying to find where the coordinates belong from the latitude and longitude\n",
        "df = Airbnb_df.merge(neighbourhood_prices, on=\"neighbourhood\")\n",
        "\n",
        "# Create the scattermapbox plot\n",
        "fig = df.plot.scatter(x=\"longitude\", y=\"latitude\", c=\"avg_price\", title=\"Average Airbnb Price by Neighborhoods in New York City\", figsize=(12,6), cmap=\"plasma\")\n",
        "fig"
      ],
      "metadata": {
        "id": "u4ZHRfbuU1Hw"
      },
      "execution_count": null,
      "outputs": []
    },
    {
      "cell_type": "code",
      "source": [
        "# Extract the values from the dataset\n",
        "neighborhoods = neighbourhood_avg_price_sorted_with_group['neighbourhood']\n",
        "prices = neighbourhood_avg_price_sorted_with_group['avg_price']\n",
        "\n",
        "# Create the bar plot\n",
        "plt.figure(figsize=(15,5))\n",
        "plt.bar(neighborhoods, prices,width=0.5, color = 'orchid')\n",
        "plt.xlabel('Neighborhood')\n",
        "plt.ylabel('Average Price')\n",
        "plt.title('Average Price by Neighborhood')\n",
        "\n",
        "# Show the plot\n",
        "plt.show()"
      ],
      "metadata": {
        "id": "fpdoSyEzWFrJ"
      },
      "execution_count": null,
      "outputs": []
    },
    {
      "cell_type": "markdown",
      "source": [
        "#### **Observation**"
      ],
      "metadata": {
        "id": "jj7wYXLtphqO"
      }
    },
    {
      "cell_type": "markdown",
      "source": [
        "\n",
        "\n",
        "*   All of the neighborhoods listed are located in the outer boroughs of New York City (Bronx, Queens, and Staten Island). This suggests that these neighborhoods may have a lower overall cost of living compared to neighborhoods in Manhattan and Brooklyn.\n",
        "\n",
        "\n",
        "*   Most of these neighborhoods are located in the Bronx and Staten Island. These boroughs tend to have a lower overall cost of living compared to Manhattan and Brooklyn.\n",
        "\n",
        "\n",
        "\n",
        "*   These neighborhoods may be attractive to renters or buyers looking for more affordable housing options in the New York City area.\n",
        "\n",
        "\n",
        "\n",
        "\n"
      ],
      "metadata": {
        "id": "Ob8u6rCTphqO"
      }
    },
    {
      "cell_type": "markdown",
      "source": [
        "#### **Chart - 9.Total Counts Of Each Room Type**"
      ],
      "metadata": {
        "id": "YJ55k-q6phqO"
      }
    },
    {
      "cell_type": "code",
      "source": [
        "# Chart - 9 visualization code\n",
        "# create a new DataFrame that displays the number of listings of each room type in the Airbnb NYC dataset\n",
        "top_room_type = Airbnb_df['room_type'].value_counts().reset_index()\n",
        "\n",
        "# rename the columns of the resulting DataFrame to 'Room_Type' and 'Total_counts'\n",
        "top_room_type.columns = ['Room_Type', 'Total_counts']\n",
        "\n",
        "# display the resulting DataFrame\n",
        "top_room_type\n"
      ],
      "metadata": {
        "id": "B2aS4O1ophqO"
      },
      "execution_count": null,
      "outputs": []
    },
    {
      "cell_type": "code",
      "source": [
        "# Set the figure size\n",
        "plt.figure(figsize=(10, 6))\n",
        "\n",
        "# Get the room type counts\n",
        "room_type_counts = Airbnb_df['room_type'].value_counts()\n",
        "\n",
        "# Set the labels and sizes for the pie chart\n",
        "labels = room_type_counts.index\n",
        "sizes = room_type_counts.values\n",
        "\n",
        "# Create the pie chart\n",
        "plt.pie(sizes, labels=labels, autopct='%1.1f%%')\n",
        "\n",
        "# Add a legend to the chart\n",
        "plt.legend(title='Room Type', bbox_to_anchor=(0.8, 0, 0.5, 1), fontsize='12')\n",
        "\n",
        "# Show the plot\n",
        "plt.show()\n"
      ],
      "metadata": {
        "id": "sWdwx8-Jaf17"
      },
      "execution_count": null,
      "outputs": []
    },
    {
      "cell_type": "markdown",
      "source": [
        "##### **Observations**"
      ],
      "metadata": {
        "id": "gCFgpxoyphqP"
      }
    },
    {
      "cell_type": "markdown",
      "source": [
        "\n",
        "\n",
        "*   The majority of listings on Airbnb are for entire homes or apartments, with 22784 listings, followed by private rooms with 21996 listings, and shared rooms with 1138 listings.\n",
        "\n",
        "\n",
        "*   There is a significant difference in the number of listings for each room type. For example, there are almost 20 times as many listings for entire homes or apartments as there are for shared rooms.\n",
        "\n",
        "*   The data suggests that travelers using Airbnb have a wide range of accommodation options to choose from, including private rooms and entire homes or apartments\n",
        "\n",
        "\n",
        "\n",
        "\n",
        "\n",
        "\n"
      ],
      "metadata": {
        "id": "TVxDimi2phqP"
      }
    },
    {
      "cell_type": "markdown",
      "source": [
        "#### **Chart - 10.Count Of Each Room Types In Entire NYC Using Multiple Bar Plot**"
      ],
      "metadata": {
        "id": "U2RJ9gkRphqQ"
      }
    },
    {
      "cell_type": "code",
      "source": [
        "# Chart - 10 visualization code\n",
        "\n",
        "# Now analysis Room types count in Neighbourhood groups in NYC\n",
        "\n",
        "# Set the size of the plot\n",
        "plt.rcParams['figure.figsize'] = (8, 5)\n",
        "\n",
        "# Create a countplot using seaborn\n",
        "ax = sns.countplot(y='room_type', hue='neighbourhood_group', data=Airbnb_df, palette='bright')\n",
        "\n",
        "# Calculate the total number of room_type values\n",
        "total = len(Airbnb_df['room_type'])\n",
        "\n",
        "# Add percentage labels to each bar in the plot\n",
        "for p in ax.patches:\n",
        "        percentage = '{:.1f}%'.format(100 * p.get_width()/total)\n",
        "        x = p.get_x() + p.get_width() + 0.02\n",
        "        y = p.get_y() + p.get_height()/2\n",
        "        ax.annotate(percentage, (x, y))\n",
        "\n",
        "# Add a title to the plot\n",
        "plt.title('count of each room types in entire NYC', fontsize='15')\n",
        "\n",
        "# Add a label to the x-axis\n",
        "plt.xlabel('Room counts', fontsize='14')\n",
        "\n",
        "# Rotate the x-tick labels\n",
        "plt.xticks(rotation=90)\n",
        "\n",
        "# Add a label to the y-axis\n",
        "plt.ylabel('Rooms', fontsize='14')\n",
        "\n",
        "# Display the plot\n",
        "plt.show()\n"
      ],
      "metadata": {
        "id": "GM7a4YP4phqQ"
      },
      "execution_count": null,
      "outputs": []
    },
    {
      "cell_type": "markdown",
      "source": [
        "##### **Observations**\n",
        "\n",
        "\n",
        "\n"
      ],
      "metadata": {
        "id": "1M8mcRywphqQ"
      }
    },
    {
      "cell_type": "markdown",
      "source": [
        "\n",
        "\n",
        "*   Manhattan has more listed properties with Entire home/apt around 24.6% of total listed properties followed by Brooklyn with around 19.5%.\n",
        "\n",
        "\n",
        "*   Private rooms are more in Brooklyn as in 21.9% of the total listed properties followed by Manhattan with 16.9% of them. While 7.3% of private rooms are from Queens.\n",
        "\n",
        "\n",
        "\n",
        "*   Very few of the total listed have shared rooms listed on Airbnb where there's negligible or almost very rare shared rooms in Staten Island and Bronx.\n",
        "*   We can infer that Brooklyn,Queens,Bronx has more private room types while Manhattan which has the highest no of listings in entire NYC has more Entire home/apt room types.\n",
        "\n",
        "\n",
        "\n"
      ],
      "metadata": {
        "id": "8agQvks0phqQ"
      }
    },
    {
      "cell_type": "markdown",
      "source": [
        "#### **Chart - 11. Most reviewed room type per month in neighbourhood groups**"
      ],
      "metadata": {
        "id": "x-EpHcCOp1ci"
      }
    },
    {
      "cell_type": "code",
      "source": [
        "# Chart - 11 visualization code\n",
        "# create a figure with a default size of (10, 8)\n",
        "f, ax = plt.subplots(figsize=(10, 8))\n",
        "\n",
        "# create a stripplot that displays the number of reviews per month for each room type in the Airbnb NYC dataset\n",
        "ax = sns.stripplot(x='room_type', y='reviews_per_month', hue='neighbourhood_group', dodge=True, data=Airbnb_df, palette='Set1')\n",
        "\n",
        "# set the title of the plot\n",
        "ax.set_title('Most Reviewed room_types in each Neighbourhood Groups', fontsize='14')\n",
        "\n"
      ],
      "metadata": {
        "id": "mAQTIvtqp1cj"
      },
      "execution_count": null,
      "outputs": []
    },
    {
      "cell_type": "markdown",
      "source": [
        "##### **Observations**"
      ],
      "metadata": {
        "id": "X_VqEhTip1ck"
      }
    },
    {
      "cell_type": "markdown",
      "source": [
        "\n",
        "\n",
        "*   We can see that Private room recieved the most no of reviews/month where Manhattan had the highest reviews received for Private rooms with more than 50 reviews/month, followed by Manhattan in the chase.\n",
        "*  Manhattan & Queens got the most no of reviews for Entire home/apt room type.\n",
        "\n",
        "\n",
        "\n",
        "* There were less reviews recieved from shared rooms as compared to other room types and it was from Staten Island followed by Bronx.\n",
        "\n",
        "\n",
        "\n",
        "\n"
      ],
      "metadata": {
        "id": "-vsMzt_np1ck"
      }
    },
    {
      "cell_type": "markdown",
      "source": [
        "#### **Chart - 12. Use latitude and longitude in scatterplot map and find neighbourhood_groups and Room types in map**\n",
        "\n"
      ],
      "metadata": {
        "id": "n3dbpmDWp1ck"
      }
    },
    {
      "cell_type": "code",
      "source": [
        "# Chart - 12 visualization code\n",
        "#trying to find where the coordinates belong from the latitude and longitude\n",
        "\n",
        "# set the default figure size for the seaborn library\n",
        "sns.set(rc={\"figure.figsize\": (10, 8)})\n",
        "\n",
        "# create a scatter plot that displays the longitude and latitude of the listings in the Airbnb NYC dataset\n",
        "ax = sns.scatterplot(data=Airbnb_df, x=\"longitude\", y=\"latitude\", hue='neighbourhood_group', palette='bright')\n",
        "\n",
        "# set the title of the plot\n",
        "ax.set_title('Location Co-ordinates', fontsize='14')\n",
        "\n"
      ],
      "metadata": {
        "id": "bwevp1tKp1ck"
      },
      "execution_count": null,
      "outputs": []
    },
    {
      "cell_type": "code",
      "source": [
        "\n",
        "# Let's observe the type of room_types\n",
        "\n",
        "# set the default figure size for the seaborn library\n",
        "sns.set(rc={\"figure.figsize\": (10, 8)})\n",
        "\n",
        "# create a scatter plot that displays the longitude and latitude of the listings in the Airbnb NYC dataset with room_types.\n",
        "ax = sns.scatterplot(x=Airbnb_df.longitude, y=Airbnb_df.latitude, hue=Airbnb_df.room_type, palette='muted')\n",
        "\n",
        "# set the title of the plot\n",
        "ax.set_title('Distribution of type of rooms across NYC', fontsize='14')\n",
        "\n"
      ],
      "metadata": {
        "id": "0ghQkatkh_PW"
      },
      "execution_count": null,
      "outputs": []
    },
    {
      "cell_type": "markdown",
      "source": [
        "#### **Chart - 13.Price variations in NYC Neighbourhood groups using scatter plot**\n",
        "\n",
        "\n"
      ],
      "metadata": {
        "id": "Ag9LCva-p1cl"
      }
    },
    {
      "cell_type": "code",
      "source": [
        "# Chart - 13 visualization code\n",
        "# Let's have an idea of the price variations in neighborhood_groups\n",
        "\n",
        "# create a scatter plot that displays the longitude and latitude of the listings in the Airbnb NYC dataset, with the color of each point indicating the price of the listing\n",
        "lat_long = Airbnb_df.plot(kind='scatter', x='longitude', y='latitude', label='price_variations', c='price',\n",
        "                  cmap=plt.get_cmap('jet'), colorbar=True, alpha=0.4, figsize=(10, 8))\n",
        "\n",
        "# add a legend to the plot\n",
        "lat_long.legend()"
      ],
      "metadata": {
        "id": "EUfxeq9-p1cl"
      },
      "execution_count": null,
      "outputs": []
    },
    {
      "cell_type": "markdown",
      "source": [
        "##### **Observations**\n"
      ],
      "metadata": {
        "id": "E6MkPsBcp1cl"
      }
    },
    {
      "cell_type": "markdown",
      "source": [
        "\n",
        "\n",
        "*  The range of prices for accommodations in Manhattan is particularly high, indicating that it is the most expensive place to stay in NYC due to its various attractive amenities, as shown in the attached image.\n",
        "*  they are likely to attract a lot of tourists or visitors because of more valuable things to visit so price is higher than other neighbourhood groups.\n",
        "\n",
        "\n",
        "\n",
        "*   Travelers are likely to spent more days in this area because of popular amenities, high concentration of tourist attractions and public transports.\n",
        "\n",
        "\n",
        "\n",
        "\n",
        "\n"
      ],
      "metadata": {
        "id": "V22bRsFWp1cl"
      }
    },
    {
      "cell_type": "markdown",
      "source": [
        "#### Chart - 14 - Correlation Heatmap"
      ],
      "metadata": {
        "id": "NC_X3p0fY2L0"
      }
    },
    {
      "cell_type": "code",
      "source": [
        "# Correlation Heatmap visualization code\n",
        "# Calculate pairwise correlations between columns\n",
        "corr = Airbnb_df.corr()\n",
        "\n",
        "# Display the correlation between columns\n",
        "corr\n"
      ],
      "metadata": {
        "id": "xyC9zolEZNRQ"
      },
      "execution_count": null,
      "outputs": []
    },
    {
      "cell_type": "code",
      "source": [
        "# Set the figure size\n",
        "plt.figure(figsize=(12,6))\n",
        "\n",
        "# Visualize correlations as a heatmap\n",
        "sns.heatmap(corr, cmap='BrBG',annot=True)\n",
        "\n",
        "# Display heatmap\n",
        "plt.show()\n"
      ],
      "metadata": {
        "id": "noSUMWSPywg5"
      },
      "execution_count": null,
      "outputs": []
    },
    {
      "cell_type": "markdown",
      "source": [
        "##### **Obervation**\n",
        "\n",
        "\n"
      ],
      "metadata": {
        "id": "UV0SzAkaZNRQ"
      }
    },
    {
      "cell_type": "markdown",
      "source": [
        "\n",
        "\n",
        "*  There is a moderate positive correlation (0.58) between the host_id and id columns, which suggests that hosts with more listings are more likely to have unique host IDs.\n",
        "*   There is a weak positive correlation (0.17) between the price column and the calculated_host_listings_count column, which suggests that hosts with more listings tend to charge higher prices for their listings.\n",
        "\n",
        "\n",
        "*  There is a moderate positive correlation (0.23) between the calculated_host_listings_count column and the availability_365 column, which suggests that hosts with more listings tend to have more days of availability in the next 365 days.\n",
        "*   There is a strong positive correlation (0.58) between the number_of_reviews column and the reviews_per_month column, which suggests that listings with more total reviews tend to have more reviews per month.\n",
        "\n",
        "\n",
        "\n"
      ],
      "metadata": {
        "id": "DVPuT8LYZNRQ"
      }
    },
    {
      "cell_type": "markdown",
      "source": [
        "#### Chart - 15 - Pair Plot "
      ],
      "metadata": {
        "id": "q29F0dvdveiT"
      }
    },
    {
      "cell_type": "code",
      "source": [
        "# Pair Plot visualization code\n",
        "# create a pairplot using the seaborn library to visualize the relationships between different variables in the Airbnb NYC dataset\n",
        "sns.pairplot(Airbnb_df)\n",
        "\n",
        "# show the plot\n",
        "plt.show()\n",
        "\n"
      ],
      "metadata": {
        "id": "o58-TEIhveiU"
      },
      "execution_count": null,
      "outputs": []
    },
    {
      "cell_type": "markdown",
      "source": [
        "\n",
        "\n",
        "*   A pair plot consists of multiple scatterplots arranged in a grid, with each\n",
        "scatterplot showing the relationship between two variables\n",
        "*   It can be used to visualize relationships between multiple variables and to identify patterns in the data.\n",
        "\n",
        "\n"
      ],
      "metadata": {
        "id": "22aHeOlLveiV"
      }
    },
    {
      "cell_type": "markdown",
      "source": [
        "## **Business Conclusion**"
      ],
      "metadata": {
        "id": "JcMwzZxoAimU"
      }
    },
    {
      "cell_type": "markdown",
      "source": [
        "\n",
        "\n",
        "*   Manhattan and Brooklyn have the highest demand for Airbnb rentals, as evidenced by the large number of listings in these neighborhoods. This could make them attractive areas for hosts to invest in property.\n",
        "\n",
        "*   Manhattan is world-famous for its parks, museums, buildings, town, liberty, gardens, markets, island and also its substantial number of tourists throughout the year ,it makes sense that demand and price both high.\n",
        "\n",
        "*  Brooklyn comes in second with significant number of listings and cheaper prices as compared to the Manhattan: With most listings located in Williamsburg and Bedford Stuyvesant two neighborhoods strategically close to Manhattan tourists get the chance to enjoy both boroughs equally while spending less.\n",
        "\n",
        "\n",
        "*   Williamsburg, Bedford-Stuyvesant, Harlem, Bushwick, and the Upper West Side are the top neighborhoods in terms of listing counts, indicating strong demand for Airbnb rentals in these areas.\n",
        "\n",
        "\n",
        "*   The average price of a listing in New York City is higher in the center of the city (Manhattan) compared to the outer boroughs. This could indicate that investing in property in Manhattan may be more lucrative for Airbnb rentals.\n",
        "\n",
        "\n",
        "*   But Manhattan and Brooklyn have the largest number of hosts, indicating a high level of competition in these boroughs.\n",
        "\n",
        "*   The data suggests that Airbnb rentals are primarily used for short-term stays, with relatively few listings requiring a minimum stay of 30 nights or more. Hosts may want to consider investing in property that can accommodate shorter stays in order to maximize their occupancy rate.\n",
        "\n",
        "\n",
        "*   The majority of listings on Airbnb are for entire homes or apartments and also Private Rooms with relatively fewer listings for shared rooms. This suggests that travelers using Airbnb have a wide range of accommodation options to choose from, and hosts may want to consider investing in property that can accommodate multiple guests.\n",
        "\n",
        "\n",
        "\n",
        "*   The data indicates that the availability of Airbnb rentals varies significantly across neighborhoods, with some neighborhoods having a high concentration of listings and others having relatively few.\n",
        "\n",
        "\n",
        "*   The data indicates that there is a high level of competition among Airbnb hosts, with a small number of hosts dominating a large portion of the market. Hosts may want to consider investing in property in areas with relatively fewer listings in order to differentiate themselves from the competition.\n",
        "\n",
        "\n",
        "*   The neighborhoods near the airport in Queens would have a higher average number of reviews, as they are likely to attract a lot of tourists or visitors who are passing through the area. The proximity to the airport could make these neighborhoods a convenient and appealing place to stay for travelers for short-term stay with spending less money because The price distribution is high in Manhattan and Brooklyn.\n",
        "\n",
        "\n",
        "\n",
        "\n",
        "\n",
        "\n",
        "\n",
        "\n",
        "\n",
        "\n"
      ],
      "metadata": {
        "id": "yUWl8kp5HbkC"
      }
    },
    {
      "cell_type": "markdown",
      "source": [
        "# **THANK YOU**"
      ],
      "metadata": {
        "id": "sKUNB81fJblR"
      }
    }
  ]
}